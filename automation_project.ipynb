{
 "cells": [
  {
   "cell_type": "code",
   "execution_count": 2,
   "metadata": {},
   "outputs": [],
   "source": [
    "import pip\n",
    "import pandas as pd\n"
   ]
  },
  {
   "cell_type": "code",
   "execution_count": 3,
   "metadata": {},
   "outputs": [],
   "source": [
    "from selenium import webdriver\n",
    "from selenium.webdriver.chrome.service import Service\n",
    "from selenium.webdriver.chrome.options import Options\n",
    "from selenium.webdriver.support.ui import WebDriverWait\n",
    "from selenium.webdriver.support import expected_conditions as EC\n",
    "from selenium.webdriver.common.by import By\n",
    "from bs4 import BeautifulSoup\n",
    "import time\n"
   ]
  },
  {
   "cell_type": "code",
   "execution_count": 4,
   "metadata": {},
   "outputs": [],
   "source": [
    "from selenium import webdriver\n",
    "from selenium.webdriver.common.by import By\n",
    "from selenium.webdriver.common.keys import Keys\n",
    "from selenium.common.exceptions import NoSuchElementException"
   ]
  },
  {
   "cell_type": "code",
   "execution_count": null,
   "metadata": {},
   "outputs": [],
   "source": [
    "chrome_options = webdriver.ChromeOptions()\n",
    "chrome_options.add_experimental_option(\"detach\", True)\n",
    "driver=webdriver.Chrome(options=chrome_options)\n",
    "EMAIL='email'\n",
    "PASS='pass'"
   ]
  },
  {
   "cell_type": "code",
   "execution_count": 6,
   "metadata": {},
   "outputs": [],
   "source": [
    "url = 'https://linkedin.com/login'\n",
    "driver.get(url)"
   ]
  },
  {
   "cell_type": "code",
   "execution_count": 7,
   "metadata": {},
   "outputs": [],
   "source": [
    "username = driver.find_element(By.ID, 'username')\n",
    "username.send_keys(EMAIL)\n",
    "password = driver.find_element(By.ID, 'password')\n",
    "password.send_keys(PASS)\n",
    "driver.find_element(By.XPATH, \"//button[@type='submit']\").click()"
   ]
  },
  {
   "cell_type": "code",
   "execution_count": 8,
   "metadata": {},
   "outputs": [],
   "source": [
    "query = 'consultant'\n",
    "location = 'India'"
   ]
  },
  {
   "cell_type": "code",
   "execution_count": 9,
   "metadata": {},
   "outputs": [],
   "source": [
    "time.sleep(5)\n",
    "jobs_button=driver.find_element(by=By.LINK_TEXT,value='Jobs')\n",
    "jobs_button.click()\n",
    "time.sleep(2)\n",
    "show_all=driver.find_element(by=By.LINK_TEXT,value='Show all')\n",
    "show_all.click()\n",
    "time.sleep(5)\n",
    "\n"
   ]
  },
  {
   "cell_type": "code",
   "execution_count": null,
   "metadata": {},
   "outputs": [],
   "source": [
    "search_field=driver.find_element(By.CSS_SELECTOR, \"input[aria-label='Search by title, skill, or company']\")\n",
    "location_field=driver.find_element(By.CSS_SELECTOR, \"input[aria-label='City, state, or zip code']\")\n",
    "\n",
    "search_field.send_keys(query)\n",
    "location_field.send_keys(location) #query could be pre-filled so this line is redundant\n",
    "location_field.send_keys(Keys.ENTER)"
   ]
  },
  {
   "cell_type": "code",
   "execution_count": 11,
   "metadata": {},
   "outputs": [],
   "source": [
    "experience_filter = driver.find_element(By.ID, \"searchFilter_experience\")\n",
    "experience_filter.click()"
   ]
  },
  {
   "cell_type": "code",
   "execution_count": 16,
   "metadata": {},
   "outputs": [],
   "source": [
    "options=driver.find_elements(By.CSS_SELECTOR, \"span.t-14.t-black--light.t-normal\")\n",
    "for el in options:\n",
    "    if el.get_attribute(\"innerText\").strip() == \"Internship\":\n",
    "        el.click()\n",
    "    elif el.get_attribute(\"innerText\").strip() == \"Entry level\":\n",
    "        el.click()\n",
    "    else:\n",
    "        continue\n",
    "    \n"
   ]
  },
  {
   "cell_type": "code",
   "execution_count": null,
   "metadata": {},
   "outputs": [],
   "source": [
    "from selenium.webdriver.common.by import By\n",
    "from selenium.webdriver.support.ui import WebDriverWait\n",
    "from selenium.webdriver.support import expected_conditions as EC\n",
    "\n",
    "wait = WebDriverWait(driver, 10)  # Wait up to 10 seconds\n",
    "button = wait.until(EC.element_to_be_clickable((By.XPATH, \"//button[contains(@aria-label, 'Apply current filter')]\"))) #sometimes might not work, can change element css selector\n",
    "button.click()\n"
   ]
  },
  {
   "cell_type": "code",
   "execution_count": null,
   "metadata": {},
   "outputs": [],
   "source": []
  },
  {
   "cell_type": "code",
   "execution_count": 40,
   "metadata": {},
   "outputs": [],
   "source": [
    "driver.execute_script(\"arguments[0].style.overflow = 'scroll';\", job_list)\n",
    "driver.execute_script(\"arguments[0].scrollTop -= 100;\", job_list)\n"
   ]
  },
  {
   "cell_type": "code",
   "execution_count": 46,
   "metadata": {},
   "outputs": [],
   "source": [
    "driver.execute_script(\"arguments[0].scrollTo(0, arguments[0].scrollHeight);\", job_list)"
   ]
  },
  {
   "cell_type": "code",
   "execution_count": 28,
   "metadata": {},
   "outputs": [
    {
     "name": "stdout",
     "output_type": "stream",
     "text": [
      "Loaded 25 unique jobs on page 1.\n",
      "Loaded 50 unique jobs on page 2.\n",
      "Loaded 59 unique jobs on page 3.\n"
     ]
    },
    {
     "ename": "KeyboardInterrupt",
     "evalue": "",
     "output_type": "error",
     "traceback": [
      "\u001b[1;31m---------------------------------------------------------------------------\u001b[0m",
      "\u001b[1;31mKeyboardInterrupt\u001b[0m                         Traceback (most recent call last)",
      "Cell \u001b[1;32mIn[28], line 68\u001b[0m\n\u001b[0;32m     66\u001b[0m \u001b[38;5;28;01mif\u001b[39;00m next_button\u001b[38;5;241m.\u001b[39mis_enabled():\n\u001b[0;32m     67\u001b[0m     next_button\u001b[38;5;241m.\u001b[39mclick()\n\u001b[1;32m---> 68\u001b[0m     \u001b[43mtime\u001b[49m\u001b[38;5;241;43m.\u001b[39;49m\u001b[43msleep\u001b[49m\u001b[43m(\u001b[49m\u001b[38;5;241;43m3\u001b[39;49m\u001b[43m)\u001b[49m  \u001b[38;5;66;03m# Wait for new jobs to load\u001b[39;00m\n\u001b[0;32m     69\u001b[0m \u001b[38;5;28;01melse\u001b[39;00m:\n\u001b[0;32m     70\u001b[0m     \u001b[38;5;28mprint\u001b[39m(\u001b[38;5;124m\"\u001b[39m\u001b[38;5;124mNo more pages left.\u001b[39m\u001b[38;5;124m\"\u001b[39m)\n",
      "\u001b[1;31mKeyboardInterrupt\u001b[0m: "
     ]
    }
   ],
   "source": [
    "from selenium.webdriver.common.by import By\n",
    "from selenium.webdriver.common.keys import Keys\n",
    "from bs4 import BeautifulSoup\n",
    "import time\n",
    "\n",
    "# Locate the job list container\n",
    "job_list = driver.find_element(By.XPATH, '/html/body/div[6]/div[3]/div[4]/div/div/main/div/div[2]/div[1]/div')\n",
    "job_names = []\n",
    "company_names = []\n",
    "job_locations = []\n",
    "job_hyperlinks = []\n",
    "seen_jobs = set() # To track already added job titles\n",
    "i=1\n",
    "while True:\n",
    "     \n",
    "    prev_height = -1  # Track previous scroll height\n",
    "\n",
    "    while True:\n",
    "        soup = BeautifulSoup(driver.page_source, 'html.parser')\n",
    "        job_postings = soup.find_all('div', {'class': 'job-card-container'})\n",
    "\n",
    "        for posting in job_postings:\n",
    "            try:\n",
    "                job_title = posting.find('a', {'class': 'job-card-container__link'}).get_text(strip=True)\n",
    "            except AttributeError:\n",
    "                job_title = 'Job title not found'\n",
    "\n",
    "            try:\n",
    "                company_name = posting.find('div', {'class': 'artdeco-entity-lockup__subtitle ember-view'}).get_text(strip=True)\n",
    "            except AttributeError:\n",
    "                company_name = 'Company Name not found'\n",
    "\n",
    "            try:\n",
    "                job_location = posting.find('div', {'class': 'artdeco-entity-lockup__caption ember-view'}).get_text(strip=True)\n",
    "            except AttributeError:\n",
    "                job_location = 'Job location not found'\n",
    "\n",
    "            job_key = (job_title, company_name, job_location)  # Unique identifier\n",
    "\n",
    "            if job_key in seen_jobs:\n",
    "                continue  # Skip duplicate jobs\n",
    "\n",
    "            seen_jobs.add(job_key)\n",
    "            job_names.append(job_title)\n",
    "            company_names.append(company_name)\n",
    "            job_locations.append(job_location)\n",
    "\n",
    "            try:\n",
    "                job_url = posting.find('a', {'class': 'job-card-container__link'})['href']\n",
    "            except (AttributeError, TypeError):\n",
    "                job_url = 'Job URL not found'\n",
    "            job_hyperlinks.append(job_url)\n",
    "\n",
    "        job_list.send_keys(Keys.PAGE_DOWN)\n",
    "        time.sleep(2)\n",
    "\n",
    "        current_height = driver.execute_script(\"return arguments[0].scrollHeight;\", job_list)\n",
    "        if current_height == prev_height:\n",
    "            break\n",
    "\n",
    "        prev_height = current_height\n",
    "\n",
    "    print(f\"Loaded {len(job_names)} unique jobs on page {i}.\")\n",
    "    i+=1\n",
    "    next_button = driver.find_element(By.XPATH, \"//button[contains(@class, 'artdeco-button') and contains(@class, 'artdeco-button--icon-right')]\") \n",
    "    if next_button.is_enabled():\n",
    "        next_button.click()\n",
    "        time.sleep(3)  # Wait for new jobs to load\n",
    "    else:\n",
    "        print(\"No more pages left.\")\n",
    "        break  # Exit the loop when no further pages exist\n"
   ]
  },
  {
   "cell_type": "code",
   "execution_count": 29,
   "metadata": {},
   "outputs": [
    {
     "data": {
      "text/plain": [
       "['Qure.ai',\n",
       " 'Code Orion',\n",
       " 'Mozverse Inc.',\n",
       " 'Unified Mentor',\n",
       " 'Tara Capital Partners India Pvt Ltd',\n",
       " 'WebBoost Solutions by UM',\n",
       " 'MedTourEasy',\n",
       " 'Galileo🔭',\n",
       " 'Akaike Technologies',\n",
       " 'Frinks AI',\n",
       " 'The Fashion Cosmo',\n",
       " 'Zoo Media',\n",
       " 'IBSFINtech',\n",
       " 'Lovers Ai',\n",
       " 'CloudPro Partners',\n",
       " 'Triomics',\n",
       " 'AI ML Universe',\n",
       " 'Fractal',\n",
       " 'Visual AId',\n",
       " 'Cresta',\n",
       " 'Millennium',\n",
       " 'Nurix',\n",
       " 'Braintrust',\n",
       " 'UrbanPro.com',\n",
       " 'VoiceCare AI',\n",
       " 'Unified Mentor',\n",
       " 'The Fashion Cosmo',\n",
       " 'Math Commons',\n",
       " 'WebBoost Solutions by UM',\n",
       " 'Google',\n",
       " 'Naptha AI',\n",
       " 'SSTech LLC',\n",
       " 'VAYUZ Technologies',\n",
       " 'Wadhwani AI',\n",
       " 'Larsen & Toubro',\n",
       " 'Expertia AI',\n",
       " 'HITLAB',\n",
       " 'Unsiloed AI',\n",
       " 'Analytify',\n",
       " 'Joveo',\n",
       " 'MHTECHIN™',\n",
       " 'Frido',\n",
       " 'Global Peace Solutions Aggregator and Communities',\n",
       " 'NLP People',\n",
       " 'Pronix Inc',\n",
       " 'AutonomOps AI',\n",
       " 'Jupiter AI Labs ✔',\n",
       " 'KnowDis AI',\n",
       " 'Engro Technologies',\n",
       " 'Adobe',\n",
       " 'Unified Mentor',\n",
       " 'WebBoost Solutions by UM',\n",
       " 'Worldline',\n",
       " 'Naptha AI',\n",
       " 'iRage',\n",
       " 'Auric AI Labs',\n",
       " 'Google',\n",
       " 'Global Cybersecurity Aggregator and Communities',\n",
       " 'Dream11']"
      ]
     },
     "execution_count": 29,
     "metadata": {},
     "output_type": "execute_result"
    }
   ],
   "source": [
    "company_names"
   ]
  }
 ],
 "metadata": {
  "kernelspec": {
   "display_name": "Python 3",
   "language": "python",
   "name": "python3"
  },
  "language_info": {
   "codemirror_mode": {
    "name": "ipython",
    "version": 3
   },
   "file_extension": ".py",
   "mimetype": "text/x-python",
   "name": "python",
   "nbconvert_exporter": "python",
   "pygments_lexer": "ipython3",
   "version": "3.12.1"
  }
 },
 "nbformat": 4,
 "nbformat_minor": 2
}
